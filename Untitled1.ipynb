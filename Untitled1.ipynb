{
 "cells": [
  {
   "cell_type": "code",
   "execution_count": 1,
   "metadata": {},
   "outputs": [],
   "source": [
    "import pandas as pd\n",
    "import sqlite3\n",
    "import os"
   ]
  },
  {
   "cell_type": "code",
   "execution_count": 2,
   "metadata": {},
   "outputs": [],
   "source": [
    "try:\n",
    "    import openpyxl\n",
    "    import xlrd\n",
    "    import matplotlib.pyplot as plt\n",
    "except ImportError:\n",
    "    os.system('pip install openpyxl xlrd matplotlib')\n",
    "    import openpyxl\n",
    "    import xlrd\n",
    "    import matplotlib.pylot as plt"
   ]
  },
  {
   "cell_type": "code",
   "execution_count": 3,
   "metadata": {},
   "outputs": [],
   "source": [
    "csv_content=\"\"\"id,name,age\n",
    "1,John Doe,28\n",
    "2,Jane Smith,34\n",
    "3,Emily Davis,22\n",
    "\"\"\""
   ]
  },
  {
   "cell_type": "code",
   "execution_count": 4,
   "metadata": {},
   "outputs": [],
   "source": [
    "with open('data.csv','w') as file:\n",
    "    file.write(csv_content)"
   ]
  },
  {
   "cell_type": "code",
   "execution_count": 5,
   "metadata": {},
   "outputs": [
    {
     "name": "stdout",
     "output_type": "stream",
     "text": [
      "CSV Data:\n",
      "   id         name  age\n",
      "0   1     John Doe   28\n",
      "1   2   Jane Smith   34\n",
      "2   3  Emily Davis   22\n"
     ]
    }
   ],
   "source": [
    "try:\n",
    "    df_csv=pd.read_csv('data.csv')\n",
    "    print(\"CSV Data:\")\n",
    "    print(df_csv)\n",
    "except Exception as e:\n",
    "    print(f\"Error reading CSV file:{e}\")"
   ]
  },
  {
   "cell_type": "code",
   "execution_count": 6,
   "metadata": {},
   "outputs": [],
   "source": [
    "excel_data={\n",
    "    'id':[1,2,3],\n",
    "    'name':['John doe','Jane Smith','Emily Davis'],\n",
    "    'age':[28,34,22]\n",
    "}\n",
    "df_excel_create=pd.DataFrame(excel_data)\n",
    "df_excel_create.to_excel('data.xlsx',sheet_name='Sheet1',index=False)"
   ]
  },
  {
   "cell_type": "code",
   "execution_count": 7,
   "metadata": {},
   "outputs": [
    {
     "name": "stdout",
     "output_type": "stream",
     "text": [
      "\n",
      "Excel Data:\n",
      "   id         name  age\n",
      "0   1     John doe   28\n",
      "1   2   Jane Smith   34\n",
      "2   3  Emily Davis   22\n"
     ]
    }
   ],
   "source": [
    "try:\n",
    "    df_excel=pd.read_excel('data.xlsx',sheet_name='Sheet1')\n",
    "    print(\"\\nExcel Data:\")\n",
    "    print(df_excel)\n",
    "except Exception as e:\n",
    "    print(f\"Error reading Excel file:{e}\")\n",
    "    "
   ]
  },
  {
   "cell_type": "code",
   "execution_count": 10,
   "metadata": {},
   "outputs": [],
   "source": [
    "json_content=[\n",
    "    {\"id\":1, \"name\":\"John Doe\",\"age\": 28},\n",
    "    {\"id\":2, \"name\":\"Jane Smith\",\"age\": 34},\n",
    "    {\"id\":3, \"name\":\"Emily Davis\",\"age\": 22}\n",
    "    \n",
    "]\n",
    "with open('data.json','w') as file:\n",
    "    pd.DataFrame(json_content).to_json(file, orient='records')"
   ]
  },
  {
   "cell_type": "code",
   "execution_count": 11,
   "metadata": {},
   "outputs": [
    {
     "name": "stdout",
     "output_type": "stream",
     "text": [
      "\n",
      "JSON Data:\n",
      "   id         name  age\n",
      "0   1     John Doe   28\n",
      "1   2   Jane Smith   34\n",
      "2   3  Emily Davis   22\n"
     ]
    }
   ],
   "source": [
    "try:\n",
    "    df_json=pd.read_json('data.json')\n",
    "    print(\"\\nJSON Data:\")\n",
    "    print(df_json)\n",
    "except Exception as e:\n",
    "    print(f\"Error reading JSON file: {e}\")"
   ]
  },
  {
   "cell_type": "code",
   "execution_count": 13,
   "metadata": {},
   "outputs": [
    {
     "name": "stdout",
     "output_type": "stream",
     "text": [
      "\n",
      "SQl Data:\n",
      "   id         name  age\n",
      "0   1     John Doe   28\n",
      "1   2   Jane Smith   34\n",
      "2   3  Emily Davis   22\n"
     ]
    }
   ],
   "source": [
    "try:\n",
    "    conn=sqlite3.connect('database.db')\n",
    "    cursor=conn.cursor()\n",
    "    cursor.execute('''\n",
    "    CREATE TABLE IF NOT EXISTS table_name(\n",
    "    id INTEGER PRIMARY KEY,\n",
    "    name TEXT,\n",
    "    age INTEGER\n",
    "    )\n",
    "    ''')\n",
    "    cursor.execute('INSERT INTO table_name(id,name,age) VALUES(1,\"John Doe\",28)')\n",
    "    cursor.execute('INSERT INTO table_name(id,name,age) VALUES(2,\"Jane Smith\",34)')\n",
    "    cursor.execute('INSERT INTO table_name(id,name,age) VALUES(3,\"Emily Davis\",22)')\n",
    "    conn.commit()\n",
    "    \n",
    "    df_sql=pd.read_sql_query('SELECT *FROM table_name',conn)\n",
    "    print(\"\\nSQl Data:\")\n",
    "    print(df_sql)\n",
    "except Exception as e:\n",
    "    print(f\"Error with SQL database:{e}\")\n",
    "finally:\n",
    "          conn.close()"
   ]
  },
  {
   "cell_type": "code",
   "execution_count": null,
   "metadata": {},
   "outputs": [],
   "source": [
    "import pandas as pd\n",
    "df="
   ]
  }
 ],
 "metadata": {
  "kernelspec": {
   "display_name": "Python 3",
   "language": "python",
   "name": "python3"
  },
  "language_info": {
   "codemirror_mode": {
    "name": "ipython",
    "version": 3
   },
   "file_extension": ".py",
   "mimetype": "text/x-python",
   "name": "python",
   "nbconvert_exporter": "python",
   "pygments_lexer": "ipython3",
   "version": "3.8.10"
  }
 },
 "nbformat": 4,
 "nbformat_minor": 4
}
