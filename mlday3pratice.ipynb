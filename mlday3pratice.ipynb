{
 "cells": [
  {
   "cell_type": "code",
   "execution_count": 20,
   "metadata": {},
   "outputs": [],
   "source": [
    "import pandas as pd\n",
    "import sqlite3\n",
    "import os"
   ]
  },
  {
   "cell_type": "code",
   "execution_count": 21,
   "metadata": {},
   "outputs": [],
   "source": [
    "try:\n",
    "    import openpyxl\n",
    "    import xlrd\n",
    "    import matplotlib.pyplot as plt\n",
    "except ImportError:\n",
    "    os.system('pip install openpyxl xlrd matplotlib')\n",
    "    import openpyxl\n",
    "    import xlrd\n",
    "    import matplotlib.pylot as plt"
   ]
  },
  {
   "cell_type": "code",
   "execution_count": 22,
   "metadata": {},
   "outputs": [],
   "source": [
    "csv_content=\"\"\"id,name,age\n",
    "1,John Doe,28\n",
    "2,Jane Smith,34\n",
    "3,Emily Davis,22\n",
    "\"\"\""
   ]
  },
  {
   "cell_type": "code",
   "execution_count": 23,
   "metadata": {},
   "outputs": [],
   "source": [
    "with open('data.csv','w') as file:\n",
    "    file.write(csv_content)"
   ]
  },
  {
   "cell_type": "code",
   "execution_count": 24,
   "metadata": {},
   "outputs": [
    {
     "name": "stdout",
     "output_type": "stream",
     "text": [
      "CSV Data:\n",
      "   id         name  age\n",
      "0   1     John Doe   28\n",
      "1   2   Jane Smith   34\n",
      "2   3  Emily Davis   22\n"
     ]
    }
   ],
   "source": [
    "try:\n",
    "    df_csv=pd.read_csv('data.csv')\n",
    "    print(\"CSV Data:\")\n",
    "    print(df_csv)\n",
    "except Exception as e:\n",
    "    print(f\"Error reading CSV file:{e}\")"
   ]
  },
  {
   "cell_type": "code",
   "execution_count": 25,
   "metadata": {},
   "outputs": [],
   "source": [
    "excel_data={\n",
    "    'id':[1,2,3],\n",
    "    'name':['John doe','Jane Smith','Emily Davis'],\n",
    "    'age':[28,34,22]\n",
    "}\n",
    "df_excel_create=pd.DataFrame(excel_data)\n",
    "df_excel_create.to_excel('data.xlsx',sheet_name='Sheet1',index=False)"
   ]
  },
  {
   "cell_type": "code",
   "execution_count": 26,
   "metadata": {},
   "outputs": [
    {
     "name": "stdout",
     "output_type": "stream",
     "text": [
      "\n",
      "Excel Data:\n",
      "   id         name  age\n",
      "0   1     John doe   28\n",
      "1   2   Jane Smith   34\n",
      "2   3  Emily Davis   22\n"
     ]
    }
   ],
   "source": [
    "try:\n",
    "    df_excel=pd.read_excel('data.xlsx',sheet_name='Sheet1')\n",
    "    print(\"\\nExcel Data:\")\n",
    "    print(df_excel)\n",
    "except Exception as e:\n",
    "    print(f\"Error reading Excel file:{e}\")\n",
    "    "
   ]
  },
  {
   "cell_type": "code",
   "execution_count": 27,
   "metadata": {},
   "outputs": [],
   "source": [
    "json_content=[\n",
    "    {\"id\":1, \"name\":\"John Doe\",\"age\": 28},\n",
    "    {\"id\":2, \"name\":\"Jane Smith\",\"age\": 34},\n",
    "    {\"id\":3, \"name\":\"Emily Davis\",\"age\": 22}\n",
    "    \n",
    "]\n",
    "with open('data.json','w') as file:\n",
    "    pd.DataFrame(json_content).to_json(file, orient='records')"
   ]
  },
  {
   "cell_type": "code",
   "execution_count": 28,
   "metadata": {},
   "outputs": [
    {
     "name": "stdout",
     "output_type": "stream",
     "text": [
      "\n",
      "JSON Data:\n",
      "   id         name  age\n",
      "0   1     John Doe   28\n",
      "1   2   Jane Smith   34\n",
      "2   3  Emily Davis   22\n"
     ]
    }
   ],
   "source": [
    "try:\n",
    "    df_json=pd.read_json('data.json')\n",
    "    print(\"\\nJSON Data:\")\n",
    "    print(df_json)\n",
    "except Exception as e:\n",
    "    print(f\"Error reading JSON file: {e}\")"
   ]
  },
  {
   "cell_type": "code",
   "execution_count": 30,
   "metadata": {},
   "outputs": [
    {
     "name": "stdout",
     "output_type": "stream",
     "text": [
      "\n",
      "SQl Data:\n",
      "   id         name  age\n",
      "0   1     John Doe   28\n",
      "1   2   Jane Smith   34\n",
      "2   3  Emily Davis   22\n"
     ]
    }
   ],
   "source": [
    "try:\n",
    "    conn=sqlite3.connect('database.db')\n",
    "    cursor=conn.cursor()\n",
    "    cursor.execute('''\n",
    "    CREATE TABLE IF NOT EXISTS table_name(\n",
    "    id INTEGER PRIMARY KEY,\n",
    "    name TEXT,\n",
    "    age INTEGER\n",
    "    )\n",
    "    ''')\n",
    "#     cursor.execute('INSERT INTO table_name(id,name,age) VALUES(1,\"John Doe\",28)')\n",
    "#     cursor.execute('INSERT INTO table_name(id,name,age) VALUES(2,\"Jane Smith\",34)')\n",
    "#     cursor.execute('INSERT INTO table_name(id,name,age) VALUES(3,\"Emily Davis\",22)')\n",
    "    conn.commit()\n",
    "    \n",
    "    df_sql=pd.read_sql_query('SELECT *FROM table_name',conn)\n",
    "    print(\"\\nSQl Data:\")\n",
    "    print(df_sql)\n",
    "except Exception as e:\n",
    "    print(f\"Error with SQL database:{e}\")\n",
    "finally:\n",
    "          conn.close()"
   ]
  },
  {
   "cell_type": "code",
   "execution_count": 32,
   "metadata": {},
   "outputs": [
    {
     "name": "stdout",
     "output_type": "stream",
     "text": [
      "   id         name  age\n",
      "0   1     John Doe   28\n",
      "1   2   Jane Smith   34\n",
      "2   3  Emily Davis   22\n",
      "   id         name  age\n",
      "0   1     John Doe   28\n",
      "1   2   Jane Smith   34\n",
      "2   3  Emily Davis   22\n",
      "   id         name  age\n",
      "0   1     John Doe   28\n",
      "1   2   Jane Smith   34\n",
      "2   3  Emily Davis   22\n"
     ]
    }
   ],
   "source": [
    "import pandas as pd\n",
    "df=pd.read_csv('data.csv')\n",
    "print(df)\n",
    "df_=pd.read_excel('data.xlsx',sheet_name='Sheet1')\n",
    "print(df)\n",
    "df=pd.read_json('data.json')\n",
    "print(df)"
   ]
  },
  {
   "cell_type": "code",
   "execution_count": 42,
   "metadata": {},
   "outputs": [
    {
     "name": "stdout",
     "output_type": "stream",
     "text": [
      "    Name   Age        City\n",
      "0   Alan  25.0   Las vegas\n",
      "1  steve   NaN     Bancock\n",
      "2   None  35.0  los angels\n",
      "3  dough  40.0        None\n"
     ]
    },
    {
     "ename": "TypeError",
     "evalue": "rename() got an unexpected keyword argument 'coloumns'",
     "output_type": "error",
     "traceback": [
      "\u001b[0;31m---------------------------------------------------------------------------\u001b[0m",
      "\u001b[0;31mTypeError\u001b[0m                                 Traceback (most recent call last)",
      "\u001b[0;32m<ipython-input-42-c87a3d9b986d>\u001b[0m in \u001b[0;36m<module>\u001b[0;34m\u001b[0m\n\u001b[1;32m      9\u001b[0m \u001b[0mprint\u001b[0m\u001b[0;34m(\u001b[0m\u001b[0mdf\u001b[0m\u001b[0;34m)\u001b[0m\u001b[0;34m\u001b[0m\u001b[0;34m\u001b[0m\u001b[0m\n\u001b[1;32m     10\u001b[0m \u001b[0;34m\u001b[0m\u001b[0m\n\u001b[0;32m---> 11\u001b[0;31m \u001b[0mdf_renamed\u001b[0m \u001b[0;34m=\u001b[0m \u001b[0mdf\u001b[0m\u001b[0;34m.\u001b[0m\u001b[0mrename\u001b[0m\u001b[0;34m(\u001b[0m\u001b[0mcoloumns\u001b[0m\u001b[0;34m=\u001b[0m\u001b[0;34m{\u001b[0m\u001b[0;34m'Name'\u001b[0m\u001b[0;34m:\u001b[0m\u001b[0;34m'Full Name'\u001b[0m\u001b[0;34m,\u001b[0m\u001b[0;34m'Age'\u001b[0m\u001b[0;34m:\u001b[0m\u001b[0;34m'Years'\u001b[0m\u001b[0;34m}\u001b[0m\u001b[0;34m)\u001b[0m\u001b[0;34m\u001b[0m\u001b[0;34m\u001b[0m\u001b[0m\n\u001b[0m\u001b[1;32m     12\u001b[0m \u001b[0mprint\u001b[0m\u001b[0;34m(\u001b[0m\u001b[0mdf_renamed\u001b[0m\u001b[0;34m)\u001b[0m\u001b[0;34m\u001b[0m\u001b[0;34m\u001b[0m\u001b[0m\n\u001b[1;32m     13\u001b[0m \u001b[0mprint\u001b[0m\u001b[0;34m(\u001b[0m\u001b[0;34m\"Hangover\"\u001b[0m\u001b[0;34m)\u001b[0m\u001b[0;34m\u001b[0m\u001b[0;34m\u001b[0m\u001b[0m\n",
      "\u001b[0;31mTypeError\u001b[0m: rename() got an unexpected keyword argument 'coloumns'"
     ]
    }
   ],
   "source": [
    "import pandas as pd\n",
    "data ={\n",
    "    'Name':['Alan','steve',None,'dough'],\n",
    "    'Age':[25,None,35,40],\n",
    "    'City':['Las vegas','Bancock','los angels',None]\n",
    "    \n",
    "}\n",
    "df = pd.DataFrame(data)\n",
    "print(df)\n",
    "\n",
    "df_renamed = df.rename(coloumns={'Name':'Full Name','Age':'Years'})\n",
    "print(df_renamed)\n",
    "\n",
    "df.coloums = ['Full Name','Years','Locations']"
   ]
  },
  {
   "cell_type": "code",
   "execution_count": null,
   "metadata": {},
   "outputs": [],
   "source": []
  }
 ],
 "metadata": {
  "kernelspec": {
   "display_name": "Python 3",
   "language": "python",
   "name": "python3"
  },
  "language_info": {
   "codemirror_mode": {
    "name": "ipython",
    "version": 3
   },
   "file_extension": ".py",
   "mimetype": "text/x-python",
   "name": "python",
   "nbconvert_exporter": "python",
   "pygments_lexer": "ipython3",
   "version": "3.8.10"
  }
 },
 "nbformat": 4,
 "nbformat_minor": 4
}
